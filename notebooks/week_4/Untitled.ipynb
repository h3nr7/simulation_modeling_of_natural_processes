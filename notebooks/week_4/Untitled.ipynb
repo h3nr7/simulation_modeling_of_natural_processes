{
 "cells": [
  {
   "cell_type": "markdown",
   "metadata": {},
   "source": [
    "# Dynamic system and numerical integration\n",
    "\n",
    "\n",
    "\n"
   ]
  },
  {
   "cell_type": "markdown",
   "metadata": {},
   "source": [
    "### Cellular Automata\n",
    "\n",
    "A mathematical abstraction of the real world, a modeling framework\n",
    "\n",
    "\n",
    "Elucidate some links between complex systems, universal computations, algorithmic complexity, intractability.\n",
    "\n",
    "#### Parity Rule\n",
    "\n",
    "Possible state $s_{ij} = 0, 1$\n",
    "\n",
    "Rule: each ceil sums up the states of its neighbours (north, east, south, west)\n",
    "\n",
    "If the sum is even, the new state is $s_{ij} = 0$, otherwise $s_{ij} = 1$\n",
    "\n",
    "If we let the system evolve we generate many different patterns.\n",
    "\n",
    "<img src='./capture_1.JPG' />\n",
    "\n",
    "\n",
    "### CA (Cellular AUtomata) definition\n",
    "\n",
    "\n",
    "\n",
    "\n",
    "\n"
   ]
  },
  {
   "cell_type": "code",
   "execution_count": null,
   "metadata": {},
   "outputs": [],
   "source": []
  }
 ],
 "metadata": {
  "kernelspec": {
   "display_name": "Python 3",
   "language": "python",
   "name": "python3"
  },
  "language_info": {
   "codemirror_mode": {
    "name": "ipython",
    "version": 3
   },
   "file_extension": ".py",
   "mimetype": "text/x-python",
   "name": "python",
   "nbconvert_exporter": "python",
   "pygments_lexer": "ipython3",
   "version": "3.5.2"
  }
 },
 "nbformat": 4,
 "nbformat_minor": 2
}
