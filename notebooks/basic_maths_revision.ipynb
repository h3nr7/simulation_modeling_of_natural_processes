{
 "cells": [
  {
   "cell_type": "markdown",
   "metadata": {},
   "source": [
    "# Basic Maths revision\n",
    "\n"
   ]
  },
  {
   "cell_type": "code",
   "execution_count": null,
   "metadata": {},
   "outputs": [],
   "source": []
  },
  {
   "cell_type": "markdown",
   "metadata": {},
   "source": [
    "### Del\n",
    "\n",
    "Del or nabla is an operator used in maths. $ \\Delta $ or $ \\nabla $.\n",
    "\n",
    "It denote the gradient (locally steepest slope) of a scalar field or sometimes of a vector field, as in Navier-Stokes equations.\n",
    "\n",
    "* Gradient: **grade** $f = \\nabla f $\n",
    "* Divergence: **div** $\\vec{v} = \\nabla \\cdot \\vec{v} $\n",
    "* Curl: **curl** $ \\vec{v} = \\nabla \\times \\vec{v} $\n",
    "\n",
    "#### Gradient\n",
    "\n",
    "grad $ f = \\large \\frac{\\partial f}{\\partial x} \\small\\vec{e}_x + \\large \\frac{\\partial f}{\\partial y} \\small\\vec{e}_y + \\large \\frac{\\partial f}{\\partial z} \\small\\vec{e}_z = \\nabla f $\n",
    "\n",
    "#### Divergence\n",
    "\n",
    "div $ \\vec{v} = \\large \\frac{\\partial v_x}{\\partial x} \\small+ \\large \\frac{\\partial v_y}{\\partial y} \\small+ \\large \\frac{\\partial v_z}{\\partial z} \\small = \\nabla \\cdot \\vec{v} $\n",
    "\n",
    "#### Curl\n",
    "\n",
    "\n",
    "curl $ \\vec{v} = \\left( \\large\\frac{\\partial v_z}{\\partial y} \\small- \\large\\frac{\\partial v_y}{\\partial z} \\right)\\small\\vec{e}_x - \\left( \\large\\frac{\\partial v_x}{\\partial z} \\small- \\large\\frac{\\partial v_z}{\\partial x} \\right)\\small\\vec{e}_y - \\left( \\large\\frac{\\partial v_y}{\\partial x} \\small- \\large\\frac{\\partial v_x}{\\partial y} \\right)\\small\\vec{e}_z = \\nabla \\times \\vec{v} $\n",
    "\n",
    "The vector product operator can be visualised as a pseudo-determinant:\n",
    "\n",
    "$ \\nabla \\times \\vec{v} = \\left\\lvert \\begin{array}{cc} \\vec{e}_x && \\vec{e}_x && \\vec{e}_x \\\\ \\frac{\\partial}{\\partial x} && \\frac{\\partial}{\\partial y} && \\frac{\\partial}{\\partial z} \\\\ \\vec{v}_x && \\vec{v}_y && \\vec{v}_z \\end{array} \\right\\rvert $\n",
    "\n",
    "### Examples\n",
    "\n",
    "#### Directional derivative\n",
    "\n",
    "The directional derivative of a scalar field $f(x, y, z)$ in the direction $\\vec{a}(x, y, z) = a_x \\vec{e}_x + a_y \\vec{e}_y +  a_z \\vec{e}_z $ is defined as:\n",
    "\n",
    "$ \\vec{a} \\cdot\\ $ grad $f = a_x \\large\\frac{\\partial f}{\\partial x} \\small+ a_y \\large\\frac{\\partial f}{\\partial y} \\small+ a_z \\large\\frac{\\partial f}{\\partial z} \\small= \\vec{a} \\cdot (\\nabla f) $\n",
    "\n",
    "#### Laplacian\n",
    "\n",
    "The Laplace operator is a scalar operator that can be applied to either vector or scalar fields; for cartesian coordinate systems it is defined as:\n",
    "\n",
    "\n",
    "$ \\Delta = \\large\\frac{\\partial^2}{\\partial x^2} \\small+ \\large\\frac{\\partial^2}{\\partial y^2} \\small+ \\large\\frac{\\partial^2}{\\partial z^2} \\small= \\nabla \\cdot \\nabla = \\Delta^2 $"
   ]
  },
  {
   "cell_type": "code",
   "execution_count": null,
   "metadata": {},
   "outputs": [],
   "source": []
  }
 ],
 "metadata": {
  "kernelspec": {
   "display_name": "Python 3",
   "language": "python",
   "name": "python3"
  },
  "language_info": {
   "codemirror_mode": {
    "name": "ipython",
    "version": 3
   },
   "file_extension": ".py",
   "mimetype": "text/x-python",
   "name": "python",
   "nbconvert_exporter": "python",
   "pygments_lexer": "ipython3",
   "version": "3.5.2"
  }
 },
 "nbformat": 4,
 "nbformat_minor": 2
}
