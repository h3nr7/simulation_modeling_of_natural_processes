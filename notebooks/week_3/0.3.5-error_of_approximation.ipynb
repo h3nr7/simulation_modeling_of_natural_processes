{
 "cells": [
  {
   "cell_type": "code",
   "execution_count": null,
   "metadata": {},
   "outputs": [],
   "source": []
  },
  {
   "cell_type": "markdown",
   "metadata": {},
   "source": [
    "# Error of the approximation\n",
    "\n",
    "### Evaluation of error\n",
    "\n",
    "$ E(\\Delta t ) = \\sqrt{\\large\\frac{1}{N + 1} \\sum_{i=0}^{N}\\small(s(t_i) - s_{\\Delta t}(t_i))^2} $\n",
    "\n",
    "with $ N = (t_f - t_0) / \\Delta t $\n",
    "\n",
    "If no analytical solution exists on can replace $ s(t_i) \\rightarrow s_{\\min (\\Delta t)}(t_i) $\n",
    "\n",
    "\n",
    "<img src='./capture.JPG' />\n",
    "\n"
   ]
  },
  {
   "cell_type": "code",
   "execution_count": null,
   "metadata": {},
   "outputs": [],
   "source": []
  },
  {
   "cell_type": "markdown",
   "metadata": {},
   "source": []
  }
 ],
 "metadata": {
  "kernelspec": {
   "display_name": "Python 3",
   "language": "python",
   "name": "python3"
  },
  "language_info": {
   "codemirror_mode": {
    "name": "ipython",
    "version": 3
   },
   "file_extension": ".py",
   "mimetype": "text/x-python",
   "name": "python",
   "nbconvert_exporter": "python",
   "pygments_lexer": "ipython3",
   "version": "3.5.2"
  }
 },
 "nbformat": 4,
 "nbformat_minor": 2
}
