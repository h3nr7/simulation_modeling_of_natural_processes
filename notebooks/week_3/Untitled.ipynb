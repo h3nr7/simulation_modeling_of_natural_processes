{
 "cells": [
  {
   "cell_type": "markdown",
   "metadata": {},
   "source": [
    "# Growth of a population\n",
    "\n",
    "\n",
    "\n",
    "$ R > 0 $ Exponential growth\n",
    "$ R < 0 $ \n",
    "\n",
    "\n",
    "$ r = v \\left( 1 - \\frac{P}{C} \\right) $\n",
    "\n",
    "\n",
    "### The solution is a logistic function\n",
    "\n",
    "$P(t) = \\frac{C}{1 + \\frac{C}{1}} $\n",
    "\n"
   ]
  },
  {
   "cell_type": "code",
   "execution_count": null,
   "metadata": {},
   "outputs": [],
   "source": []
  },
  {
   "cell_type": "markdown",
   "metadata": {},
   "source": [
    "Therefore,\n",
    "\n",
    "* $ P_0 < C $ growth of population and $ P \\rightarrow C $\n",
    "* $P_0 > C $ decay of population and $ P \\rightarrow C $\n",
    "* Except if $ P_0 = 0 $ then $ P(t) = 0 $\n",
    "\n",
    "This system has two fixed points: $C$ (attractive) and $0$ (repulsive)"
   ]
  },
  {
   "cell_type": "code",
   "execution_count": null,
   "metadata": {},
   "outputs": [],
   "source": []
  }
 ],
 "metadata": {
  "kernelspec": {
   "display_name": "Python 3",
   "language": "python",
   "name": "python3"
  },
  "language_info": {
   "codemirror_mode": {
    "name": "ipython",
    "version": 3
   },
   "file_extension": ".py",
   "mimetype": "text/x-python",
   "name": "python",
   "nbconvert_exporter": "python",
   "pygments_lexer": "ipython3",
   "version": "3.5.2"
  }
 },
 "nbformat": 4,
 "nbformat_minor": 2
}
