{
 "cells": [
  {
   "cell_type": "markdown",
   "metadata": {},
   "source": [
    "# Balance Equation (Part 1)\n",
    "\n",
    "As with the growth of a population example the basic idea is to write a balance equation\n",
    "\n",
    "$ \\underbrace{variation\\ of\\ a\\ quantity}_{ex\\: \\dot{P}} = \\underbrace{creation\\ rate}_{ex:\\ B{t}} - \\underbrace{destruction\\ rate}_{ex:\\ D(t)} $\n",
    "\n",
    "or to reuse the generic formalism of continuous dynamic systems\n",
    "\n",
    "$ \\dot{s} = f(s) = creation\\ rate - destruction\\ rate $\n",
    "\n",
    "#### For descrete dynamical systems this equation becomes\n",
    "\n",
    "$ s(t + \\Delta t) - s(t) = \\Delta t(creation\\ rate - destruction\\ rate) $\n",
    "\n",
    "Both formulations are equivalent in the limit $ \\Delta t \\rightarrow 0 $ since\n",
    "\n",
    "$ \\lim_{\\Delta t \\rightarrow 0} \\large\\frac{s(t + \\Delta t) - s(t)}{\\Delta t} \\small = \\dot{s} $\n",
    "\n",
    "Discrete balance equations can be directly implemented on a computer\n",
    "\n",
    "\n",
    "\n",
    "\n",
    "\n"
   ]
  },
  {
   "cell_type": "code",
   "execution_count": null,
   "metadata": {},
   "outputs": [],
   "source": []
  },
  {
   "cell_type": "markdown",
   "metadata": {},
   "source": [
    "### Lotka-Volterra model (\"Prey-Predator\")\n",
    "\n",
    "Let a be the antelope population and c the cheetah popuation\n",
    "\n",
    "$ \\large\\frac{da}{dt} \\small = k_a a(t) - k_{c,a} c(t) a(t) $\n",
    "\n",
    "$\\large \\frac{dc}{dt} \\small = -k_c c(t) + k_{a, c} a(t) c(t) $\n",
    "\n",
    "* Antelopes reproduce exponentially fast\n",
    "* Antelopes are being eaten by the cheetah proportionally to their chance to meet\n",
    "* Cheetahs die exponentially fast of stavation\n",
    "* Cheetahs are reproducing proportionally to their chance to eat antelopes\n",
    "\n"
   ]
  },
  {
   "cell_type": "code",
   "execution_count": null,
   "metadata": {},
   "outputs": [],
   "source": []
  },
  {
   "cell_type": "markdown",
   "metadata": {},
   "source": [
    "# Balance Equation (Part 2)\n",
    "\n",
    "### Space-time dependent equations\n",
    "\n",
    "\n",
    "<img src='./capture_1.JPG' />"
   ]
  },
  {
   "cell_type": "code",
   "execution_count": null,
   "metadata": {},
   "outputs": [],
   "source": []
  }
 ],
 "metadata": {
  "kernelspec": {
   "display_name": "Python 3",
   "language": "python",
   "name": "python3"
  },
  "language_info": {
   "codemirror_mode": {
    "name": "ipython",
    "version": 3
   },
   "file_extension": ".py",
   "mimetype": "text/x-python",
   "name": "python",
   "nbconvert_exporter": "python",
   "pygments_lexer": "ipython3",
   "version": "3.5.2"
  }
 },
 "nbformat": 4,
 "nbformat_minor": 2
}
