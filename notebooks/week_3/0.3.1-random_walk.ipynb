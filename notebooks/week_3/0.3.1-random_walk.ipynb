{
 "cells": [
  {
   "cell_type": "markdown",
   "metadata": {},
   "source": [
    "# The random Walk\n",
    "\n",
    "$ x(t + \\Delta t)  = x(t) + \\Delta t \\cdot v_x(t) $\n",
    "\n",
    "$ y(t + \\Delta t) = y(t) + \\Delta t \\cdot v_y(t) $\n",
    "\n",
    "where $(v_x, v_y)$ is chosen randomly in the enseble\n",
    "\n",
    "\n",
    "### Mathematical analysis\n",
    "\n",
    "What is the average behaviour of many random walkers?\n",
    "\n",
    "* Initial position of the walker is $(x(0), y(0)) = (x_0, y_0) $\n",
    "\n",
    "* After a time t = N $\\Delta t$ the position of a random walker is\n",
    "\n",
    "    $ x(t) = x(t - \\Delta t) + \\Delta t \\cdot v_x(t - \\Delta t) $\n",
    "    \n",
    "    $ x(t) = x(t - 2\\Delta t) + \\Delta t \\cdot (v_x(t - 2\\Delta t) + v_x(t - \\Delta t)) $\n",
    "    \n",
    "    $ x(t) = x(0) + \\Delta t \\sum_{n=1}^{N} v_x(t  - n \\cdot \\Delta t)  $\n",
    "    \n",
    "and therefore,\n",
    "\n",
    "\n",
    "\n",
    "\n",
    "\n"
   ]
  },
  {
   "cell_type": "code",
   "execution_count": null,
   "metadata": {},
   "outputs": [],
   "source": []
  }
 ],
 "metadata": {
  "kernelspec": {
   "display_name": "Python 3",
   "language": "python",
   "name": "python3"
  },
  "language_info": {
   "codemirror_mode": {
    "name": "ipython",
    "version": 3
   },
   "file_extension": ".py",
   "mimetype": "text/x-python",
   "name": "python",
   "nbconvert_exporter": "python",
   "pygments_lexer": "ipython3",
   "version": "3.5.2"
  }
 },
 "nbformat": 4,
 "nbformat_minor": 2
}
