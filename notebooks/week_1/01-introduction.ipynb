{
 "cells": [
  {
   "cell_type": "markdown",
   "metadata": {},
   "source": [
    "# Introduction\n",
    "\n",
    "#### Objective and backgrounds\n",
    "\n",
    "Modeling and simulation, a model is a representation.  Computational Science is an emerging field."
   ]
  },
  {
   "cell_type": "markdown",
   "metadata": {},
   "source": []
  },
  {
   "cell_type": "markdown",
   "metadata": {},
   "source": [
    "## Modeling and Simulation\n",
    "\n",
    "Why do we do it? To understand and simulate something.  There could be several different model.\n",
    "\n",
    "Einstein quote 'A model should be simple, but not simpler'.\n",
    "\n",
    "#### Several models / different langauge of description\n",
    "\n",
    "1. Can be done using Partial differential Equation (PDE), in a mathetical way.\n",
    "\n",
    "2. A virtual model of reality, with abstract way of descripiton of a simulation.\n",
    "\n",
    "\n",
    "\n",
    "#### What is included in this study\n",
    "\n",
    "N-body system, molecule dynamics. Mathematical equation to ordinary differential equation , partial differential equation.\n",
    "\n",
    "Monte Carlo Method, Cellular Automata and Lattice Boltzmann.  Multi-agent system. Discrete event simulation, Complex network.\n",
    "\n",
    "\n",
    "#### What to next?\n",
    "\n",
    "Once a model is specified, it need to be run on computer and study the results.  It is called numerical experiments. \n",
    "\n",
    "Therefore understanding of computer programming, software engineering data structure, code optimisation, etc.\n",
    "\n",
    "\n",
    "\n",
    "#### Code verification\n",
    "\n",
    "Benchmark with known phenomena. Apply a model to new processes, understanding of the field is required.\n",
    "\n",
    "\n",
    "\n",
    "\n",
    "\n",
    "\n",
    "\n",
    "\n"
   ]
  },
  {
   "cell_type": "code",
   "execution_count": null,
   "metadata": {},
   "outputs": [],
   "source": []
  },
  {
   "cell_type": "markdown",
   "metadata": {},
   "source": [
    "## Modeling of space time\n",
    "\n",
    "\n",
    "Time is a continuous variable, however in mathematical model we usually discretising time to make computer modeling simplier, separating with time steps.\n",
    "\n",
    "\n",
    "When we focus on event, the time does not have to discrete.\n",
    "\n",
    "<img src='./capture_1.JPG' width='600' />\n",
    "\n",
    "\n",
    "Therefore there are 3 ways to represent time:\n",
    "\n",
    "1. Continuous\n",
    "2. Discrete TIme\n",
    "3. Event\n"
   ]
  },
  {
   "cell_type": "code",
   "execution_count": null,
   "metadata": {},
   "outputs": [],
   "source": []
  },
  {
   "cell_type": "markdown",
   "metadata": {},
   "source": [
    "#### Modeling space: Eulerian approach\n",
    "\n",
    "Eulerian epresentation fixed point in space with an original (0,0)\n",
    "\n",
    "In computer modeling we can discretise the space into cells.\n",
    "\n",
    "\n",
    "#### Lagrangian approach\n",
    "\n",
    "Take the point of view of the object in the point of space, the observer sits on one of this object and move with it.  Then it give the position of this object over time, and the position is given as accurate as the computer can give, hence the space is no longer discretise.\n",
    "\n",
    "Lagrangian approach is taking the view point of the moving object.  Here is a digram can illustration the different approach:\n",
    "\n",
    "<img src='./capture_2.JPG' />\n",
    "\n",
    "\n",
    "\n",
    "\n"
   ]
  },
  {
   "cell_type": "code",
   "execution_count": null,
   "metadata": {},
   "outputs": [],
   "source": []
  },
  {
   "cell_type": "markdown",
   "metadata": {},
   "source": [
    "## Complex network\n",
    "\n",
    "Beyond physical space.  E.g. agent of economic system can be represented as *graph*.  Which are relationship of nodes, which can be changing in time.\n",
    "\n",
    "<img src='capture_3.JPG' />"
   ]
  },
  {
   "cell_type": "code",
   "execution_count": null,
   "metadata": {},
   "outputs": [],
   "source": []
  },
  {
   "cell_type": "markdown",
   "metadata": {},
   "source": [
    "##  Example of bio-medical modeling\n",
    "\n",
    "##### Understand how thrombosis can occur in cerebral aneurysm\n",
    "\n",
    "See chapter..."
   ]
  },
  {
   "cell_type": "code",
   "execution_count": null,
   "metadata": {},
   "outputs": [],
   "source": []
  },
  {
   "cell_type": "markdown",
   "metadata": {},
   "source": [
    "##  Monte Carlo Method I - Basics\n",
    "\n",
    "It is the sampling of a process in order to determine a statistical model.  It was named in the 1940 by *Jon von Newmann, Stanislaw Ulam and nicholas Metropolis* after the name of Monte Carlo Casino. To find the probabilities, they found out that it is simplier to play the games many times rather than trying to apply combinatoric and probability theories.\n",
    "\n",
    "The Monte Carlo Method was successfully applied in the Manhattan project(Nuclear weapon) in the Los Alamos National Laboratory.\n",
    "\n"
   ]
  },
  {
   "cell_type": "markdown",
   "metadata": {},
   "source": [
    "## Monte Carlo Method II - Markov Chain Monte Carlo (MCMC)\n",
    "\n",
    "Stochastic process whose goal is to explore the state space of a system of interest.\n",
    "\n",
    "e.g. To jump from location $ x $ to $ x' $ take place with a probability $ W_{x \\rightarrow x'} $ (transition function). This advanced the system from $ t $ to $ t + 1 $. (markov chain)\n",
    "\n",
    "\n"
   ]
  },
  {
   "cell_type": "code",
   "execution_count": null,
   "metadata": {},
   "outputs": [],
   "source": []
  },
  {
   "cell_type": "markdown",
   "metadata": {},
   "source": [
    "## Monte Carlo Method III  - Kinetic / Dynamic Monte Carlo\n",
    "\n",
    "e.g. Consider a chemical equation\n",
    "\n",
    "$ A \\xrightarrow{k_1} B $ and $ B \\xrightarrow{k_2} A $\n",
    "\n",
    "\n",
    "\n",
    "Can be written as ordinary equation:\n",
    "\n",
    "$ \\large \\frac{d}{dt} \\small\\left(\\begin{array}{cc} A \\\\ B \\end{array} \\right) = \\small\\left( \\begin{array}{cc} -k_1 & k_2 \\\\ k_1 & -k_2 \\end{array} \\right) \\left( \\begin{array}{cc} A \\\\ B \\end{array} \\right) $\n",
    "\n",
    "\n",
    "\n",
    "$ A $ convert to $ B $ with rate $ k_1 $ and $ B $ convert to $ B $ with reate $ k_2 $\n",
    "\n",
    "### Monte Carlo Simulation Steps\n",
    "\n",
    "1. Defines a time step $ \\Delta t $, small enough so that $ k_1 \\Delta t $ and $ k_2 \\Delta t $ are smaller than 1. They are the probabilities that during $ \\Delta t $, one $ A $ particle get transformed into one $ B $ particle, or conversely.\n",
    "\n",
    "2. One chooses randomly a particle among the $ N = A(t) + B(t) = const $ of them. (In practice one chooses a A particle $ rand(0, 1) < \\frac{A}{A + B} $, and a $ B $ particle otherwise.\n",
    "\n",
    "3. If a $ A $ particle was chosen, it is transformed into a $ B $ particle provided $ rand(0,1) < k_1\\Delta t $. Then $ A = A - 1 $ , $ B = B + 1 $.\n",
    "\n",
    "4. If a $ B $ particle was chosen, it is transformed into a $ A $ particle provided $ rand(0,1) < k_2\\Delta t $. Then $ A = A + 1 $ , $ B = B - 1 $.\n",
    "\n",
    "5. Repeats step 2 - 4 above until $ t = t_{max} $\n",
    "\n"
   ]
  },
  {
   "cell_type": "code",
   "execution_count": null,
   "metadata": {},
   "outputs": [],
   "source": []
  },
  {
   "cell_type": "markdown",
   "metadata": {},
   "source": [
    "## Gillespie's Algorithm\n",
    "\n",
    "Usually if you want to apply Monte Carlo to chemical reaction, you would use Gillespie which is a bit more sophisticated.\n",
    "\n",
    "* Let $ r_i $ be the rate which the possible events occur in the system\n",
    "\n",
    "* For instance, $ r_i = kAB $ for reaction $ A + B \\rightarrow C $\n",
    "\n",
    "* Let $ R_i = \\sum_{j=1}^{i} r_j $ be the cumulated rates.\n",
    "\n",
    "* Choose one event $ k $ at random by picking a random number $ s = rand(0, 1) $.  \n",
    "Choose a $ k $ which verifies $ R_{k-1} < sR_n < R_{k+1} $. (Probability proportional to rate)\n",
    "<img src='./capture_4.JPG' width='500' />\n",
    "\n",
    "\n",
    "* Execute the selected event (for instance a molecule $A$ and molecule $B$ disappear and produce a molecule $C$).\n",
    "\n",
    "* Advance time as $ \\Delta t = \\ln(1/s')R_n^{-1} $, with $ s' = rand(0,1) $\n",
    "\n",
    "* Note that here $ \\Delta t $ is calculated according to decreasing exponential distribution. it gives the average time of occurence of the next event.\n",
    "\n",
    "* Only one event takes place during the time interval $ \\Delta t $\n",
    "\n"
   ]
  },
  {
   "cell_type": "code",
   "execution_count": null,
   "metadata": {},
   "outputs": [],
   "source": []
  }
 ],
 "metadata": {
  "kernelspec": {
   "display_name": "Python 3",
   "language": "python",
   "name": "python3"
  },
  "language_info": {
   "codemirror_mode": {
    "name": "ipython",
    "version": 3
   },
   "file_extension": ".py",
   "mimetype": "text/x-python",
   "name": "python",
   "nbconvert_exporter": "python",
   "pygments_lexer": "ipython3",
   "version": "3.5.2"
  }
 },
 "nbformat": 4,
 "nbformat_minor": 2
}
