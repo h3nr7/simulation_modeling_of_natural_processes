{
 "cells": [
  {
   "cell_type": "markdown",
   "metadata": {},
   "source": [
    "# Introduction"
   ]
  },
  {
   "cell_type": "markdown",
   "metadata": {},
   "source": [
    "## Objective and backgrounds\n",
    "\n",
    "Modeling and simulation, a model is a representation.  Computational Science is an emerging field."
   ]
  },
  {
   "cell_type": "code",
   "execution_count": null,
   "metadata": {},
   "outputs": [],
   "source": []
  },
  {
   "cell_type": "markdown",
   "metadata": {},
   "source": [
    "## Modeling and Simulation\n",
    "\n",
    "Why do we do it? To understand and simulate something.  There could be several different model.\n",
    "\n",
    "Einstein quote 'A model should be simple, but not simpler'.\n",
    "\n",
    "#### Several models / different langauge of description\n",
    "\n",
    "1. Can be done using Partial differential Equation (PDE), in a mathetical way.\n",
    "\n",
    "2. A virtual model of reality, with abstract way of descripiton of a simulation.\n",
    "\n",
    "\n",
    "\n",
    "#### What is included in this study\n",
    "\n",
    "N-body system, molecule dynamics. Mathematical equation to ordinary differential equation , partial differential equation.\n",
    "\n",
    "Monte Carlo Method, Cellular Automata and Lattice Boltzmann.  Multi-agent system. Discrete event simulation, Complex network.\n",
    "\n",
    "\n",
    "#### What to next?\n",
    "\n",
    "Once a model is specified, it need to be run on computer and study the results.  It is called numerical experiments. \n",
    "\n",
    "Therefore understanding of computer programming, software engineering data structure, code optimisation, etc.\n",
    "\n",
    "\n",
    "\n",
    "#### Code verification\n",
    "\n",
    "Benchmark with known phenomena. Apply a model to new processes, understanding of the field is required.\n",
    "\n",
    "\n",
    "\n",
    "\n",
    "\n",
    "\n",
    "\n",
    "\n"
   ]
  },
  {
   "cell_type": "code",
   "execution_count": null,
   "metadata": {},
   "outputs": [],
   "source": []
  },
  {
   "cell_type": "markdown",
   "metadata": {},
   "source": [
    "## Modeling of space time\n",
    "\n",
    "\n",
    "Time is a continuous variable, however in mathematical model we usually discretising time to make computer modeling simplier, separating with time steps.\n",
    "\n",
    "\n",
    "When we focus on event, the time does not have to discrete.\n",
    "\n",
    "<img src='./capture_1.JPG' />\n",
    "\n",
    "\n",
    "Therefore there are 3 ways to represent time:\n",
    "\n",
    "1. Continuous\n",
    "2. Discrete TIme\n",
    "3. Event\n"
   ]
  },
  {
   "cell_type": "code",
   "execution_count": null,
   "metadata": {},
   "outputs": [],
   "source": []
  },
  {
   "cell_type": "markdown",
   "metadata": {},
   "source": [
    "#### Modeling space: Eulerian approach\n",
    "\n",
    "Eulerian epresentation fixed point in space with an original (0,0)\n",
    "\n",
    "In computer modeling we can discretise the space into cells.\n",
    "\n",
    "\n",
    "#### Lagrangian approach\n",
    "\n",
    "Take the point of view of the object in the point of space, the observer sits on one of this object and move with it.  Then it give the position of this object over time, and the position is given as accurate as the computer can give, hence the space is no longer discretise.\n",
    "\n",
    "Lagrangian approach is taking the view point of the moving object.  Here is a digram can illustration the different approach:\n",
    "\n",
    "<img src='./capture_2.JPG' />\n",
    "\n",
    "\n",
    "\n",
    "\n"
   ]
  },
  {
   "cell_type": "code",
   "execution_count": null,
   "metadata": {},
   "outputs": [],
   "source": []
  },
  {
   "cell_type": "markdown",
   "metadata": {},
   "source": [
    "## Complex network\n",
    "\n",
    "Beyond physical space.  E.g. agent of economic system can be represented as *graph*.  Which are relationship of nodes, which can be changing in time.\n",
    "\n",
    "<img src='capture_3.JPG' />"
   ]
  },
  {
   "cell_type": "code",
   "execution_count": null,
   "metadata": {},
   "outputs": [],
   "source": []
  },
  {
   "cell_type": "markdown",
   "metadata": {},
   "source": [
    "##  Example of bio-medical modeling\n",
    "\n",
    "##### Understand how thrombosis can occur in cerebral aneurysm\n",
    "\n",
    "See chapter..."
   ]
  },
  {
   "cell_type": "code",
   "execution_count": null,
   "metadata": {},
   "outputs": [],
   "source": []
  },
  {
   "cell_type": "markdown",
   "metadata": {},
   "source": [
    "##  Monte Carlo Method I - Basics\n",
    "\n",
    "It is the sampling of a process in order to determine a statistical model.  It was named in the 1940 by *Jon von Newmann, Stanislaw Ulam and nicholas Metropolis* after the name of Monte Carlo Casino. To find the probabilities, they found out that it is simplier to play the games many times rather than trying to apply combinatoric and probability theories.\n",
    "\n",
    "The Monte Carlo Method was successfully applied in the Manhattan project(Nuclear weapon) in the Los Alamos National Laboratory.\n",
    "\n"
   ]
  },
  {
   "cell_type": "markdown",
   "metadata": {},
   "source": [
    "## Monte Carlo Method II - Markov Chain Monte Carlo (MCMC)\n",
    "\n",
    "Stochastic process whose goal is to explore the state space of a system of interest.\n",
    "\n",
    "e.g. To jump from location $ x $ to $ x' $ take place with a probability $ W_{x \\rightarrow x'} $ (transition function). This advanced the system from $ t $ to $ t + 1 $. (markov chain)\n",
    "\n",
    "\n"
   ]
  },
  {
   "cell_type": "code",
   "execution_count": null,
   "metadata": {},
   "outputs": [],
   "source": []
  }
 ],
 "metadata": {
  "kernelspec": {
   "display_name": "Python 3",
   "language": "python",
   "name": "python3"
  },
  "language_info": {
   "codemirror_mode": {
    "name": "ipython",
    "version": 3
   },
   "file_extension": ".py",
   "mimetype": "text/x-python",
   "name": "python",
   "nbconvert_exporter": "python",
   "pygments_lexer": "ipython3",
   "version": "3.5.2"
  }
 },
 "nbformat": 4,
 "nbformat_minor": 2
}
